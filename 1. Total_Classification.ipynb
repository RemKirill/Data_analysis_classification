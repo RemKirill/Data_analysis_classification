{
 "cells": [
  {
   "cell_type": "markdown",
   "id": "e8ec3a56",
   "metadata": {},
   "source": [
    "# Классификация"
   ]
  },
  {
   "cell_type": "code",
   "execution_count": 1,
   "id": "0dfd9e67",
   "metadata": {},
   "outputs": [],
   "source": [
    "import warnings\n",
    "warnings.filterwarnings('ignore')"
   ]
  },
  {
   "cell_type": "code",
   "execution_count": 2,
   "id": "70fccea3",
   "metadata": {},
   "outputs": [],
   "source": [
    "import numpy as np\n",
    "import pandas as pd\n",
    "import seaborn as sns\n",
    "import matplotlib.pyplot as plt\n",
    "import random\n",
    "\n",
    "from imblearn.over_sampling import RandomOverSampler\n",
    "from imblearn.over_sampling import SMOTE \n",
    "from imblearn.under_sampling import TomekLinks\n",
    "\n",
    "from sklearn. model_selection import train_test_split\n",
    "from sklearn. model_selection import RepeatedStratifiedKFold\n",
    "from sklearn. model_selection import cross_val_score\n",
    "from sklearn.metrics import classification_report\n",
    "from sklearn.metrics import roc_auc_score\n",
    "from sklearn. discriminant_analysis import LinearDiscriminantAnalysis\n",
    "from sklearn.discriminant_analysis import QuadraticDiscriminantAnalysis\n",
    "from sklearn.naive_bayes import GaussianNB\n",
    "from sklearn import svm\n",
    "from sklearn.ensemble import RandomForestClassifier\n",
    "from sklearn.pipeline import Pipeline\n",
    "from sklearn.model_selection import GridSearchCV\n",
    "from sklearn.metrics import make_scorer\n",
    "from sklearn.metrics import accuracy_score\n",
    "\n",
    "from typing import Dict\n",
    "random.seed(1)\n",
    "sns.set_theme(style=\"ticks\")\n",
    "\n",
    "from seaborn import load_dataset, pairplot\n",
    "import matplotlib.pyplot as plt\n",
    "import pandas as pd\n",
    "import numpy as np\n",
    "import seaborn as sns\n",
    "from sklearn.svm import SVC\n",
    "from sklearn.metrics import f1_score\n",
    "from sklearn.preprocessing import StandardScaler\n",
    "from sklearn.pipeline import Pipeline\n",
    "from sklearn import svm\n",
    "from sklearn.metrics import confusion_matrix\n",
    "from sklearn.model_selection import GridSearchCV\n",
    "from sklearn.metrics import make_scorer\n",
    "from sklearn.model_selection import train_test_split\n",
    "from sklearn.metrics import accuracy_score\n",
    "from matplotlib.colors import ListedColormap\n",
    "from sklearn.discriminant_analysis import LinearDiscriminantAnalysis as LDA\n",
    "from sklearn.ensemble import RandomForestClassifier\n",
    "from sklearn.neural_network import MLPClassifier"
   ]
  },
  {
   "cell_type": "markdown",
   "id": "10ffa4b6",
   "metadata": {},
   "source": [
    "# Первичная обработка данных"
   ]
  },
  {
   "cell_type": "code",
   "execution_count": 3,
   "id": "87e32786",
   "metadata": {},
   "outputs": [
    {
     "data": {
      "text/html": [
       "<div>\n",
       "<style scoped>\n",
       "    .dataframe tbody tr th:only-of-type {\n",
       "        vertical-align: middle;\n",
       "    }\n",
       "\n",
       "    .dataframe tbody tr th {\n",
       "        vertical-align: top;\n",
       "    }\n",
       "\n",
       "    .dataframe thead th {\n",
       "        text-align: right;\n",
       "    }\n",
       "</style>\n",
       "<table border=\"1\" class=\"dataframe\">\n",
       "  <thead>\n",
       "    <tr style=\"text-align: right;\">\n",
       "      <th></th>\n",
       "      <th>Id</th>\n",
       "      <th>Sex</th>\n",
       "      <th>НЕВЕРОТН 1  Невероятные приключения итальянцев в России</th>\n",
       "      <th>ТЕЛОХРАН 2  Телохранитель</th>\n",
       "      <th>КАВКАЗСК 3  Кавказская пленница или Новые приключения Шурика</th>\n",
       "      <th>ПТЫЙ_ЭЛЕ 4  Пятый элемент</th>\n",
       "      <th>ТЕРМИНАТ 5  Терминатор</th>\n",
       "      <th>КРЕПКИЙ 6  Крепкий орешек</th>\n",
       "      <th>ПОЛИЦ_АК 7  Полицейская академия</th>\n",
       "      <th>ЧУЖИЕ 8  Чужие</th>\n",
       "      <th>...</th>\n",
       "      <th>РУКА_ПЕР 191 Рука-переплетение пальцев рук - ведущая</th>\n",
       "      <th>РУКА_ИМИ 192 Рука-имитация аплодисментов - ведущая</th>\n",
       "      <th>РУКА_СКР 193 Рука-скрещивание рук на груди - ведущая</th>\n",
       "      <th>HОГА 194 Hога - ведущая</th>\n",
       "      <th>ГЛАЗ 195 Глаз - ведущая</th>\n",
       "      <th>РУКОЙ_ПИ 196 Рука  которой пишут</th>\n",
       "      <th>ПЕРЕУЧИВ 197 Переучивали ли писать  если левша</th>\n",
       "      <th>САМООПPЕ 198 Самоопpеделение пpавша-левша</th>\n",
       "      <th>БОК_ПРЕД 199 Бок  на котором предпочитают спать</th>\n",
       "      <th>ГЛАЗ_У_В 200 Глаз  который обычно шире открыт</th>\n",
       "    </tr>\n",
       "  </thead>\n",
       "  <tbody>\n",
       "    <tr>\n",
       "      <th>0</th>\n",
       "      <td>1</td>\n",
       "      <td>2.0</td>\n",
       "      <td>5.0</td>\n",
       "      <td>6.0</td>\n",
       "      <td>8.0</td>\n",
       "      <td>11.7</td>\n",
       "      <td>8.7</td>\n",
       "      <td>8.0</td>\n",
       "      <td>8.0</td>\n",
       "      <td>5.0</td>\n",
       "      <td>...</td>\n",
       "      <td>1.0</td>\n",
       "      <td>2.0</td>\n",
       "      <td>2.0</td>\n",
       "      <td>2.0</td>\n",
       "      <td>2.0</td>\n",
       "      <td>1.0</td>\n",
       "      <td>4.0</td>\n",
       "      <td>1.0</td>\n",
       "      <td>2.0</td>\n",
       "      <td>2.0</td>\n",
       "    </tr>\n",
       "    <tr>\n",
       "      <th>1</th>\n",
       "      <td>2</td>\n",
       "      <td>1.0</td>\n",
       "      <td>7.0</td>\n",
       "      <td>7.0</td>\n",
       "      <td>7.0</td>\n",
       "      <td>10.0</td>\n",
       "      <td>3.0</td>\n",
       "      <td>9.0</td>\n",
       "      <td>6.2</td>\n",
       "      <td>12.0</td>\n",
       "      <td>...</td>\n",
       "      <td>1.0</td>\n",
       "      <td>1.0</td>\n",
       "      <td>1.0</td>\n",
       "      <td>1.0</td>\n",
       "      <td>2.0</td>\n",
       "      <td>1.0</td>\n",
       "      <td>1.0</td>\n",
       "      <td>2.0</td>\n",
       "      <td>2.0</td>\n",
       "      <td>3.0</td>\n",
       "    </tr>\n",
       "    <tr>\n",
       "      <th>2</th>\n",
       "      <td>3</td>\n",
       "      <td>1.0</td>\n",
       "      <td>12.0</td>\n",
       "      <td>7.0</td>\n",
       "      <td>6.0</td>\n",
       "      <td>10.0</td>\n",
       "      <td>7.0</td>\n",
       "      <td>8.0</td>\n",
       "      <td>7.0</td>\n",
       "      <td>6.0</td>\n",
       "      <td>...</td>\n",
       "      <td>2.0</td>\n",
       "      <td>1.0</td>\n",
       "      <td>2.0</td>\n",
       "      <td>1.0</td>\n",
       "      <td>2.0</td>\n",
       "      <td>1.0</td>\n",
       "      <td>4.0</td>\n",
       "      <td>2.0</td>\n",
       "      <td>3.0</td>\n",
       "      <td>2.0</td>\n",
       "    </tr>\n",
       "    <tr>\n",
       "      <th>3</th>\n",
       "      <td>4</td>\n",
       "      <td>1.0</td>\n",
       "      <td>7.0</td>\n",
       "      <td>8.0</td>\n",
       "      <td>12.0</td>\n",
       "      <td>7.0</td>\n",
       "      <td>12.0</td>\n",
       "      <td>11.0</td>\n",
       "      <td>9.0</td>\n",
       "      <td>12.0</td>\n",
       "      <td>...</td>\n",
       "      <td>2.0</td>\n",
       "      <td>2.0</td>\n",
       "      <td>1.0</td>\n",
       "      <td>2.0</td>\n",
       "      <td>2.0</td>\n",
       "      <td>1.0</td>\n",
       "      <td>NaN</td>\n",
       "      <td>1.0</td>\n",
       "      <td>3.0</td>\n",
       "      <td>1.0</td>\n",
       "    </tr>\n",
       "    <tr>\n",
       "      <th>4</th>\n",
       "      <td>5</td>\n",
       "      <td>1.0</td>\n",
       "      <td>5.0</td>\n",
       "      <td>9.0</td>\n",
       "      <td>2.0</td>\n",
       "      <td>11.0</td>\n",
       "      <td>8.0</td>\n",
       "      <td>6.0</td>\n",
       "      <td>2.0</td>\n",
       "      <td>3.0</td>\n",
       "      <td>...</td>\n",
       "      <td>1.0</td>\n",
       "      <td>2.0</td>\n",
       "      <td>2.0</td>\n",
       "      <td>2.0</td>\n",
       "      <td>2.0</td>\n",
       "      <td>1.0</td>\n",
       "      <td>4.0</td>\n",
       "      <td>1.0</td>\n",
       "      <td>1.0</td>\n",
       "      <td>2.0</td>\n",
       "    </tr>\n",
       "  </tbody>\n",
       "</table>\n",
       "<p>5 rows × 163 columns</p>\n",
       "</div>"
      ],
      "text/plain": [
       "   Id  Sex  НЕВЕРОТН 1  Невероятные приключения итальянцев в России  \\\n",
       "0   1  2.0                                                5.0         \n",
       "1   2  1.0                                                7.0         \n",
       "2   3  1.0                                               12.0         \n",
       "3   4  1.0                                                7.0         \n",
       "4   5  1.0                                                5.0         \n",
       "\n",
       "   ТЕЛОХРАН 2  Телохранитель  \\\n",
       "0                        6.0   \n",
       "1                        7.0   \n",
       "2                        7.0   \n",
       "3                        8.0   \n",
       "4                        9.0   \n",
       "\n",
       "   КАВКАЗСК 3  Кавказская пленница или Новые приключения Шурика  \\\n",
       "0                                                8.0              \n",
       "1                                                7.0              \n",
       "2                                                6.0              \n",
       "3                                               12.0              \n",
       "4                                                2.0              \n",
       "\n",
       "   ПТЫЙ_ЭЛЕ 4  Пятый элемент  ТЕРМИНАТ 5  Терминатор  \\\n",
       "0                       11.7                     8.7   \n",
       "1                       10.0                     3.0   \n",
       "2                       10.0                     7.0   \n",
       "3                        7.0                    12.0   \n",
       "4                       11.0                     8.0   \n",
       "\n",
       "   КРЕПКИЙ 6  Крепкий орешек  ПОЛИЦ_АК 7  Полицейская академия  \\\n",
       "0                        8.0                               8.0   \n",
       "1                        9.0                               6.2   \n",
       "2                        8.0                               7.0   \n",
       "3                       11.0                               9.0   \n",
       "4                        6.0                               2.0   \n",
       "\n",
       "   ЧУЖИЕ 8  Чужие  ...  РУКА_ПЕР 191 Рука-переплетение пальцев рук - ведущая  \\\n",
       "0             5.0  ...                                                1.0      \n",
       "1            12.0  ...                                                1.0      \n",
       "2             6.0  ...                                                2.0      \n",
       "3            12.0  ...                                                2.0      \n",
       "4             3.0  ...                                                1.0      \n",
       "\n",
       "   РУКА_ИМИ 192 Рука-имитация аплодисментов - ведущая  \\\n",
       "0                                                2.0    \n",
       "1                                                1.0    \n",
       "2                                                1.0    \n",
       "3                                                2.0    \n",
       "4                                                2.0    \n",
       "\n",
       "   РУКА_СКР 193 Рука-скрещивание рук на груди - ведущая  \\\n",
       "0                                                2.0      \n",
       "1                                                1.0      \n",
       "2                                                2.0      \n",
       "3                                                1.0      \n",
       "4                                                2.0      \n",
       "\n",
       "   HОГА 194 Hога - ведущая  ГЛАЗ 195 Глаз - ведущая  \\\n",
       "0                      2.0                      2.0   \n",
       "1                      1.0                      2.0   \n",
       "2                      1.0                      2.0   \n",
       "3                      2.0                      2.0   \n",
       "4                      2.0                      2.0   \n",
       "\n",
       "   РУКОЙ_ПИ 196 Рука  которой пишут  \\\n",
       "0                               1.0   \n",
       "1                               1.0   \n",
       "2                               1.0   \n",
       "3                               1.0   \n",
       "4                               1.0   \n",
       "\n",
       "   ПЕРЕУЧИВ 197 Переучивали ли писать  если левша  \\\n",
       "0                                             4.0   \n",
       "1                                             1.0   \n",
       "2                                             4.0   \n",
       "3                                             NaN   \n",
       "4                                             4.0   \n",
       "\n",
       "   САМООПPЕ 198 Самоопpеделение пpавша-левша  \\\n",
       "0                                        1.0   \n",
       "1                                        2.0   \n",
       "2                                        2.0   \n",
       "3                                        1.0   \n",
       "4                                        1.0   \n",
       "\n",
       "   БОК_ПРЕД 199 Бок  на котором предпочитают спать  \\\n",
       "0                                              2.0   \n",
       "1                                              2.0   \n",
       "2                                              3.0   \n",
       "3                                              3.0   \n",
       "4                                              1.0   \n",
       "\n",
       "   ГЛАЗ_У_В 200 Глаз  который обычно шире открыт  \n",
       "0                                            2.0  \n",
       "1                                            3.0  \n",
       "2                                            2.0  \n",
       "3                                            1.0  \n",
       "4                                            2.0  \n",
       "\n",
       "[5 rows x 163 columns]"
      ]
     },
     "execution_count": 3,
     "metadata": {},
     "output_type": "execute_result"
    }
   ],
   "source": [
    "df = pd.read_csv('predict_sex_train_utf.csv', delimiter=',')\n",
    "df_kag = pd.read_csv('predict_sex_test_no_answers_no_mv.csv', delimiter=',')\n",
    "df.head()"
   ]
  },
  {
   "cell_type": "markdown",
   "id": "1c62567f",
   "metadata": {},
   "source": [
    "Из обучающей выборки удалим строки с NA в целевой переменной."
   ]
  },
  {
   "cell_type": "code",
   "execution_count": 4,
   "id": "59a8adb8",
   "metadata": {},
   "outputs": [
    {
     "data": {
      "text/html": [
       "<div>\n",
       "<style scoped>\n",
       "    .dataframe tbody tr th:only-of-type {\n",
       "        vertical-align: middle;\n",
       "    }\n",
       "\n",
       "    .dataframe tbody tr th {\n",
       "        vertical-align: top;\n",
       "    }\n",
       "\n",
       "    .dataframe thead th {\n",
       "        text-align: right;\n",
       "    }\n",
       "</style>\n",
       "<table border=\"1\" class=\"dataframe\">\n",
       "  <thead>\n",
       "    <tr style=\"text-align: right;\">\n",
       "      <th></th>\n",
       "      <th>Id</th>\n",
       "      <th>Sex</th>\n",
       "      <th>НЕВЕРОТН 1  Невероятные приключения итальянцев в России</th>\n",
       "      <th>ТЕЛОХРАН 2  Телохранитель</th>\n",
       "      <th>КАВКАЗСК 3  Кавказская пленница или Новые приключения Шурика</th>\n",
       "      <th>ПТЫЙ_ЭЛЕ 4  Пятый элемент</th>\n",
       "      <th>ТЕРМИНАТ 5  Терминатор</th>\n",
       "      <th>КРЕПКИЙ 6  Крепкий орешек</th>\n",
       "      <th>ПОЛИЦ_АК 7  Полицейская академия</th>\n",
       "      <th>ЧУЖИЕ 8  Чужие</th>\n",
       "      <th>...</th>\n",
       "      <th>РУКА_ПЕР 191 Рука-переплетение пальцев рук - ведущая</th>\n",
       "      <th>РУКА_ИМИ 192 Рука-имитация аплодисментов - ведущая</th>\n",
       "      <th>РУКА_СКР 193 Рука-скрещивание рук на груди - ведущая</th>\n",
       "      <th>HОГА 194 Hога - ведущая</th>\n",
       "      <th>ГЛАЗ 195 Глаз - ведущая</th>\n",
       "      <th>РУКОЙ_ПИ 196 Рука  которой пишут</th>\n",
       "      <th>ПЕРЕУЧИВ 197 Переучивали ли писать  если левша</th>\n",
       "      <th>САМООПPЕ 198 Самоопpеделение пpавша-левша</th>\n",
       "      <th>БОК_ПРЕД 199 Бок  на котором предпочитают спать</th>\n",
       "      <th>ГЛАЗ_У_В 200 Глаз  который обычно шире открыт</th>\n",
       "    </tr>\n",
       "  </thead>\n",
       "  <tbody>\n",
       "    <tr>\n",
       "      <th>0</th>\n",
       "      <td>1</td>\n",
       "      <td>2.0</td>\n",
       "      <td>5.0</td>\n",
       "      <td>6.0</td>\n",
       "      <td>8.0</td>\n",
       "      <td>11.7</td>\n",
       "      <td>8.7</td>\n",
       "      <td>8.0</td>\n",
       "      <td>8.0</td>\n",
       "      <td>5.0</td>\n",
       "      <td>...</td>\n",
       "      <td>1.0</td>\n",
       "      <td>2.0</td>\n",
       "      <td>2.0</td>\n",
       "      <td>2.0</td>\n",
       "      <td>2.0</td>\n",
       "      <td>1.0</td>\n",
       "      <td>4.0</td>\n",
       "      <td>1.0</td>\n",
       "      <td>2.0</td>\n",
       "      <td>2.0</td>\n",
       "    </tr>\n",
       "    <tr>\n",
       "      <th>1</th>\n",
       "      <td>2</td>\n",
       "      <td>1.0</td>\n",
       "      <td>7.0</td>\n",
       "      <td>7.0</td>\n",
       "      <td>7.0</td>\n",
       "      <td>10.0</td>\n",
       "      <td>3.0</td>\n",
       "      <td>9.0</td>\n",
       "      <td>6.2</td>\n",
       "      <td>12.0</td>\n",
       "      <td>...</td>\n",
       "      <td>1.0</td>\n",
       "      <td>1.0</td>\n",
       "      <td>1.0</td>\n",
       "      <td>1.0</td>\n",
       "      <td>2.0</td>\n",
       "      <td>1.0</td>\n",
       "      <td>1.0</td>\n",
       "      <td>2.0</td>\n",
       "      <td>2.0</td>\n",
       "      <td>3.0</td>\n",
       "    </tr>\n",
       "    <tr>\n",
       "      <th>2</th>\n",
       "      <td>3</td>\n",
       "      <td>1.0</td>\n",
       "      <td>12.0</td>\n",
       "      <td>7.0</td>\n",
       "      <td>6.0</td>\n",
       "      <td>10.0</td>\n",
       "      <td>7.0</td>\n",
       "      <td>8.0</td>\n",
       "      <td>7.0</td>\n",
       "      <td>6.0</td>\n",
       "      <td>...</td>\n",
       "      <td>2.0</td>\n",
       "      <td>1.0</td>\n",
       "      <td>2.0</td>\n",
       "      <td>1.0</td>\n",
       "      <td>2.0</td>\n",
       "      <td>1.0</td>\n",
       "      <td>4.0</td>\n",
       "      <td>2.0</td>\n",
       "      <td>3.0</td>\n",
       "      <td>2.0</td>\n",
       "    </tr>\n",
       "    <tr>\n",
       "      <th>3</th>\n",
       "      <td>4</td>\n",
       "      <td>1.0</td>\n",
       "      <td>7.0</td>\n",
       "      <td>8.0</td>\n",
       "      <td>12.0</td>\n",
       "      <td>7.0</td>\n",
       "      <td>12.0</td>\n",
       "      <td>11.0</td>\n",
       "      <td>9.0</td>\n",
       "      <td>12.0</td>\n",
       "      <td>...</td>\n",
       "      <td>2.0</td>\n",
       "      <td>2.0</td>\n",
       "      <td>1.0</td>\n",
       "      <td>2.0</td>\n",
       "      <td>2.0</td>\n",
       "      <td>1.0</td>\n",
       "      <td>NaN</td>\n",
       "      <td>1.0</td>\n",
       "      <td>3.0</td>\n",
       "      <td>1.0</td>\n",
       "    </tr>\n",
       "    <tr>\n",
       "      <th>4</th>\n",
       "      <td>5</td>\n",
       "      <td>1.0</td>\n",
       "      <td>5.0</td>\n",
       "      <td>9.0</td>\n",
       "      <td>2.0</td>\n",
       "      <td>11.0</td>\n",
       "      <td>8.0</td>\n",
       "      <td>6.0</td>\n",
       "      <td>2.0</td>\n",
       "      <td>3.0</td>\n",
       "      <td>...</td>\n",
       "      <td>1.0</td>\n",
       "      <td>2.0</td>\n",
       "      <td>2.0</td>\n",
       "      <td>2.0</td>\n",
       "      <td>2.0</td>\n",
       "      <td>1.0</td>\n",
       "      <td>4.0</td>\n",
       "      <td>1.0</td>\n",
       "      <td>1.0</td>\n",
       "      <td>2.0</td>\n",
       "    </tr>\n",
       "    <tr>\n",
       "      <th>...</th>\n",
       "      <td>...</td>\n",
       "      <td>...</td>\n",
       "      <td>...</td>\n",
       "      <td>...</td>\n",
       "      <td>...</td>\n",
       "      <td>...</td>\n",
       "      <td>...</td>\n",
       "      <td>...</td>\n",
       "      <td>...</td>\n",
       "      <td>...</td>\n",
       "      <td>...</td>\n",
       "      <td>...</td>\n",
       "      <td>...</td>\n",
       "      <td>...</td>\n",
       "      <td>...</td>\n",
       "      <td>...</td>\n",
       "      <td>...</td>\n",
       "      <td>...</td>\n",
       "      <td>...</td>\n",
       "      <td>...</td>\n",
       "      <td>...</td>\n",
       "    </tr>\n",
       "    <tr>\n",
       "      <th>994</th>\n",
       "      <td>995</td>\n",
       "      <td>2.0</td>\n",
       "      <td>6.0</td>\n",
       "      <td>6.5</td>\n",
       "      <td>6.5</td>\n",
       "      <td>7.0</td>\n",
       "      <td>7.0</td>\n",
       "      <td>6.0</td>\n",
       "      <td>6.5</td>\n",
       "      <td>5.0</td>\n",
       "      <td>...</td>\n",
       "      <td>1.0</td>\n",
       "      <td>1.0</td>\n",
       "      <td>1.0</td>\n",
       "      <td>1.0</td>\n",
       "      <td>1.0</td>\n",
       "      <td>1.0</td>\n",
       "      <td>1.0</td>\n",
       "      <td>1.0</td>\n",
       "      <td>2.0</td>\n",
       "      <td>3.0</td>\n",
       "    </tr>\n",
       "    <tr>\n",
       "      <th>995</th>\n",
       "      <td>996</td>\n",
       "      <td>2.0</td>\n",
       "      <td>7.0</td>\n",
       "      <td>5.0</td>\n",
       "      <td>3.0</td>\n",
       "      <td>6.0</td>\n",
       "      <td>1.0</td>\n",
       "      <td>4.0</td>\n",
       "      <td>4.0</td>\n",
       "      <td>3.0</td>\n",
       "      <td>...</td>\n",
       "      <td>NaN</td>\n",
       "      <td>NaN</td>\n",
       "      <td>NaN</td>\n",
       "      <td>NaN</td>\n",
       "      <td>NaN</td>\n",
       "      <td>NaN</td>\n",
       "      <td>NaN</td>\n",
       "      <td>NaN</td>\n",
       "      <td>NaN</td>\n",
       "      <td>NaN</td>\n",
       "    </tr>\n",
       "    <tr>\n",
       "      <th>997</th>\n",
       "      <td>998</td>\n",
       "      <td>1.0</td>\n",
       "      <td>7.0</td>\n",
       "      <td>7.0</td>\n",
       "      <td>7.5</td>\n",
       "      <td>10.0</td>\n",
       "      <td>11.0</td>\n",
       "      <td>9.0</td>\n",
       "      <td>9.0</td>\n",
       "      <td>6.0</td>\n",
       "      <td>...</td>\n",
       "      <td>NaN</td>\n",
       "      <td>NaN</td>\n",
       "      <td>NaN</td>\n",
       "      <td>NaN</td>\n",
       "      <td>NaN</td>\n",
       "      <td>NaN</td>\n",
       "      <td>NaN</td>\n",
       "      <td>NaN</td>\n",
       "      <td>NaN</td>\n",
       "      <td>NaN</td>\n",
       "    </tr>\n",
       "    <tr>\n",
       "      <th>998</th>\n",
       "      <td>999</td>\n",
       "      <td>1.0</td>\n",
       "      <td>7.0</td>\n",
       "      <td>10.0</td>\n",
       "      <td>7.0</td>\n",
       "      <td>10.0</td>\n",
       "      <td>7.0</td>\n",
       "      <td>8.0</td>\n",
       "      <td>7.0</td>\n",
       "      <td>7.0</td>\n",
       "      <td>...</td>\n",
       "      <td>NaN</td>\n",
       "      <td>NaN</td>\n",
       "      <td>NaN</td>\n",
       "      <td>NaN</td>\n",
       "      <td>NaN</td>\n",
       "      <td>NaN</td>\n",
       "      <td>NaN</td>\n",
       "      <td>NaN</td>\n",
       "      <td>NaN</td>\n",
       "      <td>NaN</td>\n",
       "    </tr>\n",
       "    <tr>\n",
       "      <th>999</th>\n",
       "      <td>1000</td>\n",
       "      <td>1.0</td>\n",
       "      <td>6.0</td>\n",
       "      <td>2.0</td>\n",
       "      <td>9.0</td>\n",
       "      <td>7.0</td>\n",
       "      <td>2.0</td>\n",
       "      <td>4.0</td>\n",
       "      <td>6.0</td>\n",
       "      <td>1.0</td>\n",
       "      <td>...</td>\n",
       "      <td>NaN</td>\n",
       "      <td>NaN</td>\n",
       "      <td>NaN</td>\n",
       "      <td>NaN</td>\n",
       "      <td>NaN</td>\n",
       "      <td>NaN</td>\n",
       "      <td>NaN</td>\n",
       "      <td>NaN</td>\n",
       "      <td>NaN</td>\n",
       "      <td>NaN</td>\n",
       "    </tr>\n",
       "  </tbody>\n",
       "</table>\n",
       "<p>890 rows × 163 columns</p>\n",
       "</div>"
      ],
      "text/plain": [
       "       Id  Sex  НЕВЕРОТН 1  Невероятные приключения итальянцев в России  \\\n",
       "0       1  2.0                                                5.0         \n",
       "1       2  1.0                                                7.0         \n",
       "2       3  1.0                                               12.0         \n",
       "3       4  1.0                                                7.0         \n",
       "4       5  1.0                                                5.0         \n",
       "..    ...  ...                                                ...         \n",
       "994   995  2.0                                                6.0         \n",
       "995   996  2.0                                                7.0         \n",
       "997   998  1.0                                                7.0         \n",
       "998   999  1.0                                                7.0         \n",
       "999  1000  1.0                                                6.0         \n",
       "\n",
       "     ТЕЛОХРАН 2  Телохранитель  \\\n",
       "0                          6.0   \n",
       "1                          7.0   \n",
       "2                          7.0   \n",
       "3                          8.0   \n",
       "4                          9.0   \n",
       "..                         ...   \n",
       "994                        6.5   \n",
       "995                        5.0   \n",
       "997                        7.0   \n",
       "998                       10.0   \n",
       "999                        2.0   \n",
       "\n",
       "     КАВКАЗСК 3  Кавказская пленница или Новые приключения Шурика  \\\n",
       "0                                                  8.0              \n",
       "1                                                  7.0              \n",
       "2                                                  6.0              \n",
       "3                                                 12.0              \n",
       "4                                                  2.0              \n",
       "..                                                 ...              \n",
       "994                                                6.5              \n",
       "995                                                3.0              \n",
       "997                                                7.5              \n",
       "998                                                7.0              \n",
       "999                                                9.0              \n",
       "\n",
       "     ПТЫЙ_ЭЛЕ 4  Пятый элемент  ТЕРМИНАТ 5  Терминатор  \\\n",
       "0                         11.7                     8.7   \n",
       "1                         10.0                     3.0   \n",
       "2                         10.0                     7.0   \n",
       "3                          7.0                    12.0   \n",
       "4                         11.0                     8.0   \n",
       "..                         ...                     ...   \n",
       "994                        7.0                     7.0   \n",
       "995                        6.0                     1.0   \n",
       "997                       10.0                    11.0   \n",
       "998                       10.0                     7.0   \n",
       "999                        7.0                     2.0   \n",
       "\n",
       "     КРЕПКИЙ 6  Крепкий орешек  ПОЛИЦ_АК 7  Полицейская академия  \\\n",
       "0                          8.0                               8.0   \n",
       "1                          9.0                               6.2   \n",
       "2                          8.0                               7.0   \n",
       "3                         11.0                               9.0   \n",
       "4                          6.0                               2.0   \n",
       "..                         ...                               ...   \n",
       "994                        6.0                               6.5   \n",
       "995                        4.0                               4.0   \n",
       "997                        9.0                               9.0   \n",
       "998                        8.0                               7.0   \n",
       "999                        4.0                               6.0   \n",
       "\n",
       "     ЧУЖИЕ 8  Чужие  ...  \\\n",
       "0               5.0  ...   \n",
       "1              12.0  ...   \n",
       "2               6.0  ...   \n",
       "3              12.0  ...   \n",
       "4               3.0  ...   \n",
       "..              ...  ...   \n",
       "994             5.0  ...   \n",
       "995             3.0  ...   \n",
       "997             6.0  ...   \n",
       "998             7.0  ...   \n",
       "999             1.0  ...   \n",
       "\n",
       "     РУКА_ПЕР 191 Рука-переплетение пальцев рук - ведущая  \\\n",
       "0                                                  1.0      \n",
       "1                                                  1.0      \n",
       "2                                                  2.0      \n",
       "3                                                  2.0      \n",
       "4                                                  1.0      \n",
       "..                                                 ...      \n",
       "994                                                1.0      \n",
       "995                                                NaN      \n",
       "997                                                NaN      \n",
       "998                                                NaN      \n",
       "999                                                NaN      \n",
       "\n",
       "     РУКА_ИМИ 192 Рука-имитация аплодисментов - ведущая  \\\n",
       "0                                                  2.0    \n",
       "1                                                  1.0    \n",
       "2                                                  1.0    \n",
       "3                                                  2.0    \n",
       "4                                                  2.0    \n",
       "..                                                 ...    \n",
       "994                                                1.0    \n",
       "995                                                NaN    \n",
       "997                                                NaN    \n",
       "998                                                NaN    \n",
       "999                                                NaN    \n",
       "\n",
       "     РУКА_СКР 193 Рука-скрещивание рук на груди - ведущая  \\\n",
       "0                                                  2.0      \n",
       "1                                                  1.0      \n",
       "2                                                  2.0      \n",
       "3                                                  1.0      \n",
       "4                                                  2.0      \n",
       "..                                                 ...      \n",
       "994                                                1.0      \n",
       "995                                                NaN      \n",
       "997                                                NaN      \n",
       "998                                                NaN      \n",
       "999                                                NaN      \n",
       "\n",
       "     HОГА 194 Hога - ведущая  ГЛАЗ 195 Глаз - ведущая  \\\n",
       "0                        2.0                      2.0   \n",
       "1                        1.0                      2.0   \n",
       "2                        1.0                      2.0   \n",
       "3                        2.0                      2.0   \n",
       "4                        2.0                      2.0   \n",
       "..                       ...                      ...   \n",
       "994                      1.0                      1.0   \n",
       "995                      NaN                      NaN   \n",
       "997                      NaN                      NaN   \n",
       "998                      NaN                      NaN   \n",
       "999                      NaN                      NaN   \n",
       "\n",
       "     РУКОЙ_ПИ 196 Рука  которой пишут  \\\n",
       "0                                 1.0   \n",
       "1                                 1.0   \n",
       "2                                 1.0   \n",
       "3                                 1.0   \n",
       "4                                 1.0   \n",
       "..                                ...   \n",
       "994                               1.0   \n",
       "995                               NaN   \n",
       "997                               NaN   \n",
       "998                               NaN   \n",
       "999                               NaN   \n",
       "\n",
       "     ПЕРЕУЧИВ 197 Переучивали ли писать  если левша  \\\n",
       "0                                               4.0   \n",
       "1                                               1.0   \n",
       "2                                               4.0   \n",
       "3                                               NaN   \n",
       "4                                               4.0   \n",
       "..                                              ...   \n",
       "994                                             1.0   \n",
       "995                                             NaN   \n",
       "997                                             NaN   \n",
       "998                                             NaN   \n",
       "999                                             NaN   \n",
       "\n",
       "     САМООПPЕ 198 Самоопpеделение пpавша-левша  \\\n",
       "0                                          1.0   \n",
       "1                                          2.0   \n",
       "2                                          2.0   \n",
       "3                                          1.0   \n",
       "4                                          1.0   \n",
       "..                                         ...   \n",
       "994                                        1.0   \n",
       "995                                        NaN   \n",
       "997                                        NaN   \n",
       "998                                        NaN   \n",
       "999                                        NaN   \n",
       "\n",
       "     БОК_ПРЕД 199 Бок  на котором предпочитают спать  \\\n",
       "0                                                2.0   \n",
       "1                                                2.0   \n",
       "2                                                3.0   \n",
       "3                                                3.0   \n",
       "4                                                1.0   \n",
       "..                                               ...   \n",
       "994                                              2.0   \n",
       "995                                              NaN   \n",
       "997                                              NaN   \n",
       "998                                              NaN   \n",
       "999                                              NaN   \n",
       "\n",
       "     ГЛАЗ_У_В 200 Глаз  который обычно шире открыт  \n",
       "0                                              2.0  \n",
       "1                                              3.0  \n",
       "2                                              2.0  \n",
       "3                                              1.0  \n",
       "4                                              2.0  \n",
       "..                                             ...  \n",
       "994                                            3.0  \n",
       "995                                            NaN  \n",
       "997                                            NaN  \n",
       "998                                            NaN  \n",
       "999                                            NaN  \n",
       "\n",
       "[890 rows x 163 columns]"
      ]
     },
     "execution_count": 4,
     "metadata": {},
     "output_type": "execute_result"
    }
   ],
   "source": [
    "df = df.dropna(subset = ['Sex'])\n",
    "#df = df.dropna(axis = 1, thresh=2*len(df)/3)\n",
    "df"
   ]
  },
  {
   "cell_type": "code",
   "execution_count": 5,
   "id": "1ae84818",
   "metadata": {},
   "outputs": [],
   "source": [
    "df_kag = df_kag.loc[:, df.columns.drop('Sex')]\n",
    "df = df.fillna(df.median())\n",
    "df_kag_NA = df_kag.fillna(df_kag.median())"
   ]
  },
  {
   "cell_type": "code",
   "execution_count": 6,
   "id": "778545e6",
   "metadata": {},
   "outputs": [],
   "source": [
    "df1_train, df1_test = train_test_split(df, test_size=0.25)"
   ]
  },
  {
   "cell_type": "markdown",
   "id": "c867983e",
   "metadata": {},
   "source": [
    "Проверим соотношение классов:"
   ]
  },
  {
   "cell_type": "code",
   "execution_count": 7,
   "id": "c994d075",
   "metadata": {},
   "outputs": [
    {
     "data": {
      "text/plain": [
       "1.0    341\n",
       "2.0    326\n",
       "Name: Sex, dtype: int64"
      ]
     },
     "execution_count": 7,
     "metadata": {},
     "output_type": "execute_result"
    }
   ],
   "source": [
    "df1_train['Sex'].value_counts()"
   ]
  },
  {
   "cell_type": "code",
   "execution_count": 8,
   "id": "182aa73a",
   "metadata": {},
   "outputs": [
    {
     "data": {
      "text/plain": [
       "2.0    123\n",
       "1.0    100\n",
       "Name: Sex, dtype: int64"
      ]
     },
     "execution_count": 8,
     "metadata": {},
     "output_type": "execute_result"
    }
   ],
   "source": [
    "df1_test['Sex'].value_counts()"
   ]
  },
  {
   "cell_type": "code",
   "execution_count": 9,
   "id": "aed2d963",
   "metadata": {},
   "outputs": [],
   "source": [
    "Xtrain = df1_train.drop(['Sex', 'Id'], axis=1)\n",
    "ytrain =  df1_train[['Sex']].astype(int)\n",
    "Xtest = df1_test.drop(['Sex', 'Id'], axis=1)\n",
    "ytest = df1_test['Sex'].astype(int)"
   ]
  },
  {
   "cell_type": "code",
   "execution_count": 10,
   "id": "464e0688",
   "metadata": {
    "pycharm": {
     "name": "#%%\n"
    }
   },
   "outputs": [],
   "source": [
    "X_train, Y_train =  Xtrain, ytrain\n",
    "X_test, Y_test = Xtest, ytest"
   ]
  },
  {
   "cell_type": "markdown",
   "id": "c897103f",
   "metadata": {},
   "source": [
    "## Дискриминантный анализ"
   ]
  },
  {
   "cell_type": "markdown",
   "id": "0f75ccb9",
   "metadata": {},
   "source": [
    "Предположим, что ковариационные матрицы двух групп равны и проведем линейный дискриминантный анализ."
   ]
  },
  {
   "cell_type": "code",
   "execution_count": 11,
   "id": "65506a36",
   "metadata": {},
   "outputs": [
    {
     "name": "stdout",
     "output_type": "stream",
     "text": [
      "              precision    recall  f1-score   support\n",
      "\n",
      "           1       0.70      0.76      0.73       100\n",
      "           2       0.79      0.74      0.76       123\n",
      "\n",
      "    accuracy                           0.75       223\n",
      "   macro avg       0.75      0.75      0.75       223\n",
      "weighted avg       0.75      0.75      0.75       223\n",
      "\n",
      "train accuracy: 0.881559220389805\n",
      "test accuracy: 0.7488789237668162\n"
     ]
    }
   ],
   "source": [
    "lda = LinearDiscriminantAnalysis()\n",
    "lda.fit(Xtrain, ytrain)\n",
    "\n",
    "lda_pr = lda.predict(Xtest)\n",
    "print(classification_report(ytest, lda_pr))\n",
    "\n",
    "print('train accuracy:', lda.score(Xtrain, ytrain))\n",
    "print('test accuracy:', lda.score(Xtest, ytest))"
   ]
  },
  {
   "cell_type": "code",
   "execution_count": 12,
   "id": "b3e09e13",
   "metadata": {
    "scrolled": true
   },
   "outputs": [
    {
     "name": "stdout",
     "output_type": "stream",
     "text": [
      "              precision    recall  f1-score   support\n",
      "\n",
      "           1       0.52      0.73      0.61       100\n",
      "           2       0.67      0.46      0.54       123\n",
      "\n",
      "    accuracy                           0.58       223\n",
      "   macro avg       0.60      0.59      0.58       223\n",
      "weighted avg       0.61      0.58      0.57       223\n",
      "\n",
      "train accuracy: 0.992503748125937\n",
      "test accuracy: 0.57847533632287\n"
     ]
    }
   ],
   "source": [
    "qda = QuadraticDiscriminantAnalysis()\n",
    "qda.fit(Xtrain, ytrain)\n",
    "\n",
    "qda_pr = qda.predict(Xtest)\n",
    "print(classification_report(ytest, qda_pr))\n",
    "\n",
    "print('train accuracy:', qda.score(Xtrain, ytrain))\n",
    "print('test accuracy:', qda.score(Xtest, ytest))"
   ]
  },
  {
   "cell_type": "markdown",
   "id": "926cefbe",
   "metadata": {},
   "source": [
    "Качество классификации на тестовом наборе немного уменьшилось в сравнении с lda. \n",
    "При этом стоит помнить, что для этого нам понадобилось оценить намного больше параметров.\n",
    "\n",
    "Перейдем к модели наивного байесовского классификатора:"
   ]
  },
  {
   "cell_type": "code",
   "execution_count": 13,
   "id": "b174966d",
   "metadata": {},
   "outputs": [
    {
     "name": "stdout",
     "output_type": "stream",
     "text": [
      "              precision    recall  f1-score   support\n",
      "\n",
      "           1       0.66      0.58      0.62       100\n",
      "           2       0.69      0.76      0.72       123\n",
      "\n",
      "    accuracy                           0.68       223\n",
      "   macro avg       0.67      0.67      0.67       223\n",
      "weighted avg       0.68      0.68      0.67       223\n",
      "\n",
      "train accuracy: 0.7256371814092953\n",
      "test accuracy: 0.6771300448430493\n"
     ]
    }
   ],
   "source": [
    "gnb = GaussianNB()\n",
    "gnb.fit(Xtrain, ytrain)\n",
    "\n",
    "gnb_pr = gnb.predict(Xtest)\n",
    "print(classification_report(ytest, gnb_pr))\n",
    "\n",
    "print('train accuracy:', gnb.score(Xtrain, ytrain))\n",
    "print('test accuracy:', gnb.score(Xtest, ytest))"
   ]
  },
  {
   "cell_type": "markdown",
   "id": "f43a271e",
   "metadata": {},
   "source": [
    "## Метод опорных векторов"
   ]
  },
  {
   "cell_type": "code",
   "execution_count": 14,
   "id": "440720e9",
   "metadata": {
    "pycharm": {
     "name": "#%%\n"
    }
   },
   "outputs": [],
   "source": [
    "C = 1  # параметр регуляризации"
   ]
  },
  {
   "cell_type": "markdown",
   "id": "e733cda2",
   "metadata": {
    "pycharm": {
     "name": "#%% md\n"
    }
   },
   "source": [
    "Для начала попробуем классический SVС (с линейной разделяющей плоксотью)"
   ]
  },
  {
   "cell_type": "code",
   "execution_count": 15,
   "id": "ac0f1f1f",
   "metadata": {
    "pycharm": {
     "name": "#%%\n"
    }
   },
   "outputs": [
    {
     "name": "stdout",
     "output_type": "stream",
     "text": [
      "              precision    recall  f1-score   support\n",
      "\n",
      "           1       0.74      0.81      0.77       100\n",
      "           2       0.83      0.76      0.80       123\n",
      "\n",
      "    accuracy                           0.78       223\n",
      "   macro avg       0.78      0.79      0.78       223\n",
      "weighted avg       0.79      0.78      0.79       223\n",
      "\n",
      "train accuracy: 0.9175412293853074\n",
      "test accuracy: 0.7847533632286996\n"
     ]
    }
   ],
   "source": [
    "model_linear = svm.SVC(kernel='linear', C=C)\n",
    "model_linear.fit(X_train, Y_train)\n",
    "\n",
    "y_predict = model_linear.predict(X_test)\n",
    "\n",
    "print(classification_report(Y_test, y_predict))\n",
    "\n",
    "print('train accuracy:', model_linear.score(X_train, Y_train))\n",
    "print('test accuracy:',model_linear.score(X_test, Y_test))"
   ]
  },
  {
   "cell_type": "markdown",
   "id": "22c2e2a5",
   "metadata": {
    "pycharm": {
     "name": "#%% md\n"
    }
   },
   "source": [
    "В качестве одного из параметров мы можем выбрать ядро.\n",
    "В реализации sklearn помимо линейного ядра можно выбрать радиальное, полиномиальное, сигмовидное ядро или написать свою функцию.\n",
    "Поскольку ярко выраженной зависимости в данных не наблюдается, попробуем нелинейные ядра."
   ]
  },
  {
   "cell_type": "code",
   "execution_count": 16,
   "id": "ece7793f",
   "metadata": {
    "pycharm": {
     "name": "#%%\n"
    }
   },
   "outputs": [
    {
     "name": "stdout",
     "output_type": "stream",
     "text": [
      "              precision    recall  f1-score   support\n",
      "\n",
      "           1       0.58      0.80      0.67       100\n",
      "           2       0.76      0.53      0.62       123\n",
      "\n",
      "    accuracy                           0.65       223\n",
      "   macro avg       0.67      0.66      0.65       223\n",
      "weighted avg       0.68      0.65      0.65       223\n",
      "\n",
      "train accuracy: 0.6746626686656672\n",
      "test accuracy: 0.6502242152466368\n"
     ]
    }
   ],
   "source": [
    "model_rbf = svm.SVC(kernel='rbf', C=C)\n",
    "model_rbf.fit(X_train, Y_train)\n",
    "\n",
    "y_predict = model_rbf.predict(X_test)\n",
    "\n",
    "print(classification_report(Y_test, y_predict))\n",
    "\n",
    "print('train accuracy:', model_rbf.score(X_train, Y_train))\n",
    "print('test accuracy:',model_rbf.score(X_test, Y_test))"
   ]
  },
  {
   "cell_type": "code",
   "execution_count": 17,
   "id": "cb346295",
   "metadata": {},
   "outputs": [
    {
     "name": "stdout",
     "output_type": "stream",
     "text": [
      "              precision    recall  f1-score   support\n",
      "\n",
      "           1       0.71      0.67      0.69       100\n",
      "           2       0.74      0.77      0.76       123\n",
      "\n",
      "    accuracy                           0.73       223\n",
      "   macro avg       0.72      0.72      0.72       223\n",
      "weighted avg       0.73      0.73      0.73       223\n",
      "\n",
      "train accuracy: 0.7691154422788605\n",
      "test accuracy: 0.726457399103139\n"
     ]
    }
   ],
   "source": [
    "model_poly4 = svm.SVC(kernel='poly', degree=4, C=C)\n",
    "model_poly4.fit(X_train, Y_train)\n",
    "\n",
    "y_predict = model_poly4.predict(X_test)\n",
    "\n",
    "print(classification_report(Y_test, y_predict))\n",
    "\n",
    "print('train accuracy:', model_poly4.score(X_train, Y_train))\n",
    "print('test accuracy:',model_poly4.score(X_test, Y_test))"
   ]
  },
  {
   "cell_type": "code",
   "execution_count": 18,
   "id": "28342973",
   "metadata": {
    "pycharm": {
     "name": "#%%\n"
    }
   },
   "outputs": [
    {
     "name": "stdout",
     "output_type": "stream",
     "text": [
      "              precision    recall  f1-score   support\n",
      "\n",
      "           1       0.73      0.70      0.71       100\n",
      "           2       0.76      0.79      0.78       123\n",
      "\n",
      "    accuracy                           0.75       223\n",
      "   macro avg       0.75      0.74      0.75       223\n",
      "weighted avg       0.75      0.75      0.75       223\n",
      "\n",
      "train accuracy: 0.8035982008995503\n",
      "test accuracy: 0.7488789237668162\n"
     ]
    }
   ],
   "source": [
    "model_poly7 = svm.SVC(kernel='poly', degree=7, C=C)\n",
    "model_poly7.fit(X_train, Y_train)\n",
    "\n",
    "y_predict = model_poly7.predict(X_test)\n",
    "\n",
    "print(classification_report(Y_test, y_predict))\n",
    "\n",
    "print('train accuracy:', model_poly7.score(X_train, Y_train))\n",
    "print('test accuracy:',model_poly7.score(X_test, Y_test))"
   ]
  },
  {
   "cell_type": "code",
   "execution_count": 19,
   "id": "617d5be2",
   "metadata": {},
   "outputs": [
    {
     "name": "stdout",
     "output_type": "stream",
     "text": [
      "              precision    recall  f1-score   support\n",
      "\n",
      "           1       0.73      0.72      0.72       100\n",
      "           2       0.77      0.78      0.78       123\n",
      "\n",
      "    accuracy                           0.75       223\n",
      "   macro avg       0.75      0.75      0.75       223\n",
      "weighted avg       0.75      0.75      0.75       223\n",
      "\n",
      "train accuracy: 0.8455772113943029\n",
      "test accuracy: 0.7533632286995515\n"
     ]
    }
   ],
   "source": [
    "model_poly13 = svm.SVC(kernel='poly', degree=13, C=C)\n",
    "model_poly13.fit(X_train, Y_train)\n",
    "\n",
    "y_predict = model_poly13.predict(X_test)\n",
    "\n",
    "print(classification_report(Y_test, y_predict))\n",
    "\n",
    "print('train accuracy:', model_poly13.score(X_train, Y_train))\n",
    "print('test accuracy:',model_poly13.score(X_test, Y_test))"
   ]
  },
  {
   "cell_type": "code",
   "execution_count": 20,
   "id": "e49f88e6",
   "metadata": {
    "pycharm": {
     "name": "#%%\n"
    }
   },
   "outputs": [
    {
     "name": "stdout",
     "output_type": "stream",
     "text": [
      "              precision    recall  f1-score   support\n",
      "\n",
      "           1       0.45      1.00      0.62       100\n",
      "           2       0.00      0.00      0.00       123\n",
      "\n",
      "    accuracy                           0.45       223\n",
      "   macro avg       0.22      0.50      0.31       223\n",
      "weighted avg       0.20      0.45      0.28       223\n",
      "\n",
      "train accuracy: 0.5112443778110944\n",
      "test accuracy: 0.4484304932735426\n"
     ]
    }
   ],
   "source": [
    "model_sigm0 = svm.SVC(kernel='sigmoid', C=C, coef0 = 0)\n",
    "model_sigm0.fit(X_train, Y_train)\n",
    "\n",
    "y_predict = model_sigm0.predict(X_test)\n",
    "\n",
    "print(classification_report(Y_test, y_predict))\n",
    "\n",
    "print('train accuracy:', model_sigm0.score(X_train, Y_train))\n",
    "print('test accuracy:',model_sigm0.score(X_test, Y_test))"
   ]
  },
  {
   "cell_type": "code",
   "execution_count": 21,
   "id": "54bfa836",
   "metadata": {},
   "outputs": [
    {
     "name": "stdout",
     "output_type": "stream",
     "text": [
      "              precision    recall  f1-score   support\n",
      "\n",
      "           1       0.45      1.00      0.62       100\n",
      "           2       0.00      0.00      0.00       123\n",
      "\n",
      "    accuracy                           0.45       223\n",
      "   macro avg       0.22      0.50      0.31       223\n",
      "weighted avg       0.20      0.45      0.28       223\n",
      "\n",
      "train accuracy: 0.5112443778110944\n",
      "test accuracy: 0.4484304932735426\n"
     ]
    }
   ],
   "source": [
    "model_sigm1 = svm.SVC(kernel='sigmoid', C=C, coef0 = 1)\n",
    "model_sigm1.fit(X_train, Y_train)\n",
    "\n",
    "y_predict = model_sigm1.predict(X_test)\n",
    "\n",
    "print(classification_report(Y_test, y_predict))\n",
    "\n",
    "print('train accuracy:', model_sigm1.score(X_train, Y_train))\n",
    "print('test accuracy:',model_sigm1.score(X_test, Y_test))"
   ]
  },
  {
   "cell_type": "code",
   "execution_count": 22,
   "id": "7e7c3a35",
   "metadata": {},
   "outputs": [
    {
     "name": "stdout",
     "output_type": "stream",
     "text": [
      "              precision    recall  f1-score   support\n",
      "\n",
      "           1       0.45      1.00      0.62       100\n",
      "           2       0.00      0.00      0.00       123\n",
      "\n",
      "    accuracy                           0.45       223\n",
      "   macro avg       0.22      0.50      0.31       223\n",
      "weighted avg       0.20      0.45      0.28       223\n",
      "\n",
      "train accuracy: 0.5112443778110944\n",
      "test accuracy: 0.4484304932735426\n"
     ]
    }
   ],
   "source": [
    "model_sigm10 = svm.SVC(kernel='sigmoid', C=C, coef0 = 10)\n",
    "model_sigm10.fit(X_train, Y_train)\n",
    "\n",
    "y_predict = model_sigm10.predict(X_test)\n",
    "\n",
    "print(classification_report(Y_test, y_predict))\n",
    "\n",
    "print('train accuracy:', model_sigm10.score(X_train, Y_train))\n",
    "print('test accuracy:',model_sigm10.score(X_test, Y_test))"
   ]
  },
  {
   "cell_type": "markdown",
   "id": "cf3cbdf3",
   "metadata": {},
   "source": [
    "## Логистическая регрессия"
   ]
  },
  {
   "cell_type": "code",
   "execution_count": 23,
   "id": "9f019284",
   "metadata": {},
   "outputs": [],
   "source": [
    "from sklearn.linear_model import LogisticRegression\n",
    "from sklearn.metrics import roc_auc_score\n",
    "from sklearn.metrics import accuracy_score"
   ]
  },
  {
   "cell_type": "code",
   "execution_count": 24,
   "id": "44a45317",
   "metadata": {},
   "outputs": [],
   "source": [
    "df1_train.quality = df1_train.Sex.astype(int)"
   ]
  },
  {
   "cell_type": "code",
   "execution_count": 25,
   "id": "021c2688",
   "metadata": {},
   "outputs": [],
   "source": [
    "df1_test.quality = df1_test.Sex.astype(int)"
   ]
  },
  {
   "cell_type": "markdown",
   "id": "906d6aed",
   "metadata": {},
   "source": [
    "Попробуем построить модель с разными методами оптимизации. Метод Ньютона-Рафсона:"
   ]
  },
  {
   "cell_type": "code",
   "execution_count": 26,
   "id": "fa87ecdc",
   "metadata": {},
   "outputs": [
    {
     "name": "stdout",
     "output_type": "stream",
     "text": [
      "AUC-ROC: 0.8258536585365854\n",
      "accuracy: 0.7623318385650224\n"
     ]
    }
   ],
   "source": [
    "model = LogisticRegression(random_state = 12345, solver = 'newton-cg')\n",
    "model.fit(Xtrain, ytrain)\n",
    "predicted = model.predict_proba(Xtest)[:, 1]\n",
    "ypred = model.predict(Xtest)\n",
    "result = roc_auc_score(ytest, predicted)\n",
    "accuracy = model.score(Xtest, ytest)\n",
    "\n",
    "print('AUC-ROC:', result)\n",
    "print('accuracy:', accuracy)"
   ]
  },
  {
   "cell_type": "markdown",
   "id": "57e5171a",
   "metadata": {},
   "source": [
    "Метод стохастического градиента:"
   ]
  },
  {
   "cell_type": "code",
   "execution_count": 27,
   "id": "b4a4fe07",
   "metadata": {},
   "outputs": [
    {
     "name": "stdout",
     "output_type": "stream",
     "text": [
      "AUC-ROC: 0.8456910569105691\n",
      "accuracy: 0.7668161434977578\n"
     ]
    }
   ],
   "source": [
    "model = LogisticRegression(random_state = 12345, solver = 'sag')\n",
    "model.fit(Xtrain, ytrain)\n",
    "predicted = model.predict_proba(Xtest)[:, 1]\n",
    "ypred = model.predict(Xtest)\n",
    "result = roc_auc_score(ytest, predicted)\n",
    "accuracy = model.score(Xtest, ytest)\n",
    "\n",
    "print('AUC-ROC:', result)\n",
    "print('accuracy:', accuracy)"
   ]
  },
  {
   "cell_type": "markdown",
   "id": "83264812",
   "metadata": {},
   "source": [
    "Coordinate Descent (CD) algorithm:"
   ]
  },
  {
   "cell_type": "code",
   "execution_count": 28,
   "id": "ae2424df",
   "metadata": {},
   "outputs": [
    {
     "name": "stdout",
     "output_type": "stream",
     "text": [
      "AUC-ROC: 0.8258536585365853\n",
      "accuracy: 0.7533632286995515\n"
     ]
    }
   ],
   "source": [
    "model = LogisticRegression(random_state = 12345, solver = 'liblinear')\n",
    "model.fit(Xtrain, ytrain)\n",
    "predicted = model.predict_proba(Xtest)[:, 1]\n",
    "ypred = model.predict(Xtest)\n",
    "result = roc_auc_score(ytest, predicted)\n",
    "accuracy = model.score(Xtest, ytest)\n",
    "\n",
    "print('AUC-ROC:', result)\n",
    "print('accuracy:', accuracy)"
   ]
  },
  {
   "cell_type": "markdown",
   "id": "7962d78b",
   "metadata": {},
   "source": [
    "По умолчанию --- метод Limited-memory Broyden–Fletcher–Goldfarb–Shanno Algorithm (solver = 'lbfgs'). Аналог метода Ньютона, но гессиан вычисляется приближенно. "
   ]
  },
  {
   "cell_type": "code",
   "execution_count": 29,
   "id": "8b8a4465",
   "metadata": {},
   "outputs": [
    {
     "name": "stdout",
     "output_type": "stream",
     "text": [
      "AUC-ROC: 0.839349593495935\n",
      "accuracy: 0.7623318385650224\n"
     ]
    }
   ],
   "source": [
    "model = LogisticRegression(random_state = 12345)\n",
    "model.fit(Xtrain, ytrain)\n",
    "predicted = model.predict_proba(Xtest)[:, 1]\n",
    "ypred = model.predict(Xtest)\n",
    "result = roc_auc_score(ytest, predicted)\n",
    "accuracy = model.score(Xtest, ytest)\n",
    "\n",
    "print('AUC-ROC:', result)\n",
    "print('accuracy:', accuracy)"
   ]
  },
  {
   "cell_type": "markdown",
   "id": "58698252",
   "metadata": {},
   "source": [
    "# Resampling"
   ]
  },
  {
   "cell_type": "markdown",
   "id": "7e76b939",
   "metadata": {},
   "source": [
    "Искусствено уравняем число индивидов в классах."
   ]
  },
  {
   "cell_type": "markdown",
   "id": "279348df",
   "metadata": {},
   "source": [
    "Исходная выборка:"
   ]
  },
  {
   "cell_type": "code",
   "execution_count": 30,
   "id": "67115662",
   "metadata": {},
   "outputs": [
    {
     "name": "stdout",
     "output_type": "stream",
     "text": [
      "              precision    recall  f1-score   support\n",
      "\n",
      "           1       0.79      0.63      0.70       341\n",
      "           2       0.68      0.82      0.75       326\n",
      "\n",
      "    accuracy                           0.73       667\n",
      "   macro avg       0.74      0.73      0.72       667\n",
      "weighted avg       0.74      0.73      0.72       667\n",
      "\n",
      "train accuracy: 0.7256371814092953\n",
      "test accuracy: 0.6771300448430493\n"
     ]
    }
   ],
   "source": [
    "gnb_pr = gnb.predict(X_train)\n",
    "print(classification_report(ytrain, gnb_pr))\n",
    "\n",
    "print('train accuracy:',gnb.score(X_train, ytrain))\n",
    "print('test accuracy:',gnb.score(X_test, ytest))"
   ]
  },
  {
   "cell_type": "markdown",
   "id": "9ded1fbb",
   "metadata": {},
   "source": [
    "Случайная наивная избыточная выборка:"
   ]
  },
  {
   "cell_type": "code",
   "execution_count": 31,
   "id": "0c198f38",
   "metadata": {},
   "outputs": [],
   "source": [
    "ros = RandomOverSampler(random_state=0)\n",
    "X_resampled, y_resampled = ros.fit_resample(X_train, ytrain)"
   ]
  },
  {
   "cell_type": "code",
   "execution_count": 32,
   "id": "ed16575b",
   "metadata": {},
   "outputs": [
    {
     "name": "stdout",
     "output_type": "stream",
     "text": [
      "              precision    recall  f1-score   support\n",
      "\n",
      "           1       0.80      0.63      0.71       341\n",
      "           2       0.69      0.84      0.75       326\n",
      "\n",
      "    accuracy                           0.73       667\n",
      "   macro avg       0.74      0.74      0.73       667\n",
      "weighted avg       0.75      0.73      0.73       667\n",
      "\n",
      "train accuracy: 0.7331334332833583\n",
      "test accuracy: 0.6636771300448431\n"
     ]
    }
   ],
   "source": [
    "gnb.fit(X_resampled, y_resampled)\n",
    "\n",
    "gnb_pr = gnb.predict(X_train)\n",
    "print(classification_report(ytrain, gnb_pr))\n",
    "\n",
    "print('train accuracy:',gnb.score(X_train, ytrain))\n",
    "print('test accuracy:',gnb.score(X_test, ytest))"
   ]
  },
  {
   "cell_type": "markdown",
   "id": "6dc2e7d4",
   "metadata": {},
   "source": [
    "Качество классификации стало немного выше, чем при использовании наивного байессовского классфикатора к исходной выборке."
   ]
  },
  {
   "cell_type": "code",
   "execution_count": 33,
   "id": "5700ce68",
   "metadata": {},
   "outputs": [],
   "source": [
    "X_resampled, y_resampled = SMOTE().fit_resample(X_train, ytrain)"
   ]
  },
  {
   "cell_type": "code",
   "execution_count": 34,
   "id": "6b64b4a5",
   "metadata": {},
   "outputs": [
    {
     "name": "stdout",
     "output_type": "stream",
     "text": [
      "              precision    recall  f1-score   support\n",
      "\n",
      "           1       0.79      0.63      0.70       341\n",
      "           2       0.68      0.82      0.74       326\n",
      "\n",
      "    accuracy                           0.72       667\n",
      "   macro avg       0.73      0.72      0.72       667\n",
      "weighted avg       0.73      0.72      0.72       667\n",
      "\n",
      "train accuracy: 0.7226386806596702\n",
      "test accuracy: 0.6816143497757847\n"
     ]
    }
   ],
   "source": [
    "gnb.fit(X_resampled, y_resampled)\n",
    "\n",
    "gnb_pr = gnb.predict(X_train)\n",
    "print(classification_report(ytrain, gnb_pr))\n",
    "\n",
    "print('train accuracy:',gnb.score(X_train, ytrain))\n",
    "print('test accuracy:',gnb.score(X_test, ytest))"
   ]
  },
  {
   "cell_type": "markdown",
   "id": "a0a14f60",
   "metadata": {},
   "source": [
    "Результаты совпадают со случайной избыточной выборкой."
   ]
  },
  {
   "cell_type": "code",
   "execution_count": 35,
   "id": "baf76863",
   "metadata": {},
   "outputs": [],
   "source": [
    "X_resampled, y_resampled = TomekLinks().fit_resample(X_train, ytrain)"
   ]
  },
  {
   "cell_type": "code",
   "execution_count": 36,
   "id": "37a20c41",
   "metadata": {},
   "outputs": [
    {
     "name": "stdout",
     "output_type": "stream",
     "text": [
      "              precision    recall  f1-score   support\n",
      "\n",
      "           1       0.80      0.62      0.70       341\n",
      "           2       0.68      0.83      0.75       326\n",
      "\n",
      "    accuracy                           0.72       667\n",
      "   macro avg       0.74      0.73      0.72       667\n",
      "weighted avg       0.74      0.72      0.72       667\n",
      "\n",
      "train accuracy: 0.7241379310344828\n",
      "test accuracy: 0.672645739910314\n"
     ]
    }
   ],
   "source": [
    "gnb.fit(X_resampled, y_resampled)\n",
    "\n",
    "gnb_pr = gnb.predict(X_train)\n",
    "print(classification_report(ytrain, gnb_pr))\n",
    "\n",
    "print('train accuracy:',gnb.score(X_train, ytrain))\n",
    "print('test accuracy:',gnb.score(X_test, ytest))"
   ]
  },
  {
   "cell_type": "markdown",
   "id": "843f79dd",
   "metadata": {},
   "source": [
    "Результаты совпадают со случайной избыточной выборкой."
   ]
  },
  {
   "cell_type": "markdown",
   "id": "16b22678",
   "metadata": {},
   "source": [
    "Resampling незначительно улучшил качество классификации во всех трех случаях."
   ]
  },
  {
   "cell_type": "markdown",
   "id": "4deb502d",
   "metadata": {},
   "source": [
    "# Случайный лес"
   ]
  },
  {
   "cell_type": "markdown",
   "id": "a2a50715",
   "metadata": {},
   "source": [
    "По сетке найдем лучшие параметры для случайного леса"
   ]
  },
  {
   "cell_type": "code",
   "execution_count": 37,
   "id": "ae4c910b",
   "metadata": {},
   "outputs": [],
   "source": [
    "n_estimators = [int(x) for x in np.linspace(start = 50, stop = 500, num = 3)]\n",
    "max_features = ['log2', 'sqrt']\n",
    "max_depth = [int(x) for x in np.linspace(start = 50, stop = 150, num = 3)]\n",
    "min_samples_split = [int(x) for x in np.linspace(start = 2, stop = 50, num = 3)]\n",
    "min_samples_leaf = [int(x) for x in np.linspace(start = 2, stop = 10, num = 2)]\n",
    "bootstrap = [True, False]\n",
    "GRID = [\n",
    "    {'estimator': [RandomForestClassifier()],\n",
    "     'estimator__criterion': ['gini', 'entropy', 'log_loss'],\n",
    "     'estimator__n_estimators': n_estimators,\n",
    "     'estimator__max_features': max_features,\n",
    "     'estimator__max_depth': max_depth,\n",
    "     'estimator__min_samples_split': min_samples_split,\n",
    "     'estimator__min_samples_leaf': min_samples_leaf,\n",
    "     'estimator__bootstrap': bootstrap\n",
    "     }\n",
    "]\n",
    "\n",
    "PIPELINE = Pipeline([('scaler', None), ('estimator', RandomForestClassifier())])"
   ]
  },
  {
   "cell_type": "code",
   "execution_count": 38,
   "id": "af064b4e",
   "metadata": {},
   "outputs": [],
   "source": [
    "grid_search_RF = GridSearchCV(estimator=PIPELINE, param_grid=GRID, \n",
    "                            scoring=make_scorer(accuracy_score), \n",
    "                            n_jobs=-1, cv=5, refit=True, verbose=1, \n",
    "                            return_train_score=True)"
   ]
  },
  {
   "cell_type": "code",
   "execution_count": 39,
   "id": "795dbdc0",
   "metadata": {},
   "outputs": [
    {
     "name": "stdout",
     "output_type": "stream",
     "text": [
      "Fitting 5 folds for each of 648 candidates, totalling 3240 fits\n"
     ]
    },
    {
     "data": {
      "text/html": [
       "<style>#sk-container-id-1 {color: black;background-color: white;}#sk-container-id-1 pre{padding: 0;}#sk-container-id-1 div.sk-toggleable {background-color: white;}#sk-container-id-1 label.sk-toggleable__label {cursor: pointer;display: block;width: 100%;margin-bottom: 0;padding: 0.3em;box-sizing: border-box;text-align: center;}#sk-container-id-1 label.sk-toggleable__label-arrow:before {content: \"▸\";float: left;margin-right: 0.25em;color: #696969;}#sk-container-id-1 label.sk-toggleable__label-arrow:hover:before {color: black;}#sk-container-id-1 div.sk-estimator:hover label.sk-toggleable__label-arrow:before {color: black;}#sk-container-id-1 div.sk-toggleable__content {max-height: 0;max-width: 0;overflow: hidden;text-align: left;background-color: #f0f8ff;}#sk-container-id-1 div.sk-toggleable__content pre {margin: 0.2em;color: black;border-radius: 0.25em;background-color: #f0f8ff;}#sk-container-id-1 input.sk-toggleable__control:checked~div.sk-toggleable__content {max-height: 200px;max-width: 100%;overflow: auto;}#sk-container-id-1 input.sk-toggleable__control:checked~label.sk-toggleable__label-arrow:before {content: \"▾\";}#sk-container-id-1 div.sk-estimator input.sk-toggleable__control:checked~label.sk-toggleable__label {background-color: #d4ebff;}#sk-container-id-1 div.sk-label input.sk-toggleable__control:checked~label.sk-toggleable__label {background-color: #d4ebff;}#sk-container-id-1 input.sk-hidden--visually {border: 0;clip: rect(1px 1px 1px 1px);clip: rect(1px, 1px, 1px, 1px);height: 1px;margin: -1px;overflow: hidden;padding: 0;position: absolute;width: 1px;}#sk-container-id-1 div.sk-estimator {font-family: monospace;background-color: #f0f8ff;border: 1px dotted black;border-radius: 0.25em;box-sizing: border-box;margin-bottom: 0.5em;}#sk-container-id-1 div.sk-estimator:hover {background-color: #d4ebff;}#sk-container-id-1 div.sk-parallel-item::after {content: \"\";width: 100%;border-bottom: 1px solid gray;flex-grow: 1;}#sk-container-id-1 div.sk-label:hover label.sk-toggleable__label {background-color: #d4ebff;}#sk-container-id-1 div.sk-serial::before {content: \"\";position: absolute;border-left: 1px solid gray;box-sizing: border-box;top: 0;bottom: 0;left: 50%;z-index: 0;}#sk-container-id-1 div.sk-serial {display: flex;flex-direction: column;align-items: center;background-color: white;padding-right: 0.2em;padding-left: 0.2em;position: relative;}#sk-container-id-1 div.sk-item {position: relative;z-index: 1;}#sk-container-id-1 div.sk-parallel {display: flex;align-items: stretch;justify-content: center;background-color: white;position: relative;}#sk-container-id-1 div.sk-item::before, #sk-container-id-1 div.sk-parallel-item::before {content: \"\";position: absolute;border-left: 1px solid gray;box-sizing: border-box;top: 0;bottom: 0;left: 50%;z-index: -1;}#sk-container-id-1 div.sk-parallel-item {display: flex;flex-direction: column;z-index: 1;position: relative;background-color: white;}#sk-container-id-1 div.sk-parallel-item:first-child::after {align-self: flex-end;width: 50%;}#sk-container-id-1 div.sk-parallel-item:last-child::after {align-self: flex-start;width: 50%;}#sk-container-id-1 div.sk-parallel-item:only-child::after {width: 0;}#sk-container-id-1 div.sk-dashed-wrapped {border: 1px dashed gray;margin: 0 0.4em 0.5em 0.4em;box-sizing: border-box;padding-bottom: 0.4em;background-color: white;}#sk-container-id-1 div.sk-label label {font-family: monospace;font-weight: bold;display: inline-block;line-height: 1.2em;}#sk-container-id-1 div.sk-label-container {text-align: center;}#sk-container-id-1 div.sk-container {/* jupyter's `normalize.less` sets `[hidden] { display: none; }` but bootstrap.min.css set `[hidden] { display: none !important; }` so we also need the `!important` here to be able to override the default hidden behavior on the sphinx rendered scikit-learn.org. See: https://github.com/scikit-learn/scikit-learn/issues/21755 */display: inline-block !important;position: relative;}#sk-container-id-1 div.sk-text-repr-fallback {display: none;}</style><div id=\"sk-container-id-1\" class=\"sk-top-container\"><div class=\"sk-text-repr-fallback\"><pre>GridSearchCV(cv=5,\n",
       "             estimator=Pipeline(steps=[(&#x27;scaler&#x27;, None),\n",
       "                                       (&#x27;estimator&#x27;,\n",
       "                                        RandomForestClassifier())]),\n",
       "             n_jobs=-1,\n",
       "             param_grid=[{&#x27;estimator&#x27;: [RandomForestClassifier(criterion=&#x27;log_loss&#x27;,\n",
       "                                                               max_depth=150,\n",
       "                                                               min_samples_leaf=2,\n",
       "                                                               n_estimators=500)],\n",
       "                          &#x27;estimator__bootstrap&#x27;: [True, False],\n",
       "                          &#x27;estimator__criterion&#x27;: [&#x27;gini&#x27;, &#x27;entropy&#x27;,\n",
       "                                                   &#x27;log_loss&#x27;],\n",
       "                          &#x27;estimator__max_depth&#x27;: [50, 100, 150],\n",
       "                          &#x27;estimator__max_features&#x27;: [&#x27;log2&#x27;, &#x27;sqrt&#x27;],\n",
       "                          &#x27;estimator__min_samples_leaf&#x27;: [2, 10],\n",
       "                          &#x27;estimator__min_samples_split&#x27;: [2, 26, 50],\n",
       "                          &#x27;estimator__n_estimators&#x27;: [50, 275, 500]}],\n",
       "             return_train_score=True, scoring=make_scorer(accuracy_score),\n",
       "             verbose=1)</pre><b>In a Jupyter environment, please rerun this cell to show the HTML representation or trust the notebook. <br />On GitHub, the HTML representation is unable to render, please try loading this page with nbviewer.org.</b></div><div class=\"sk-container\" hidden><div class=\"sk-item sk-dashed-wrapped\"><div class=\"sk-label-container\"><div class=\"sk-label sk-toggleable\"><input class=\"sk-toggleable__control sk-hidden--visually\" id=\"sk-estimator-id-1\" type=\"checkbox\" ><label for=\"sk-estimator-id-1\" class=\"sk-toggleable__label sk-toggleable__label-arrow\">GridSearchCV</label><div class=\"sk-toggleable__content\"><pre>GridSearchCV(cv=5,\n",
       "             estimator=Pipeline(steps=[(&#x27;scaler&#x27;, None),\n",
       "                                       (&#x27;estimator&#x27;,\n",
       "                                        RandomForestClassifier())]),\n",
       "             n_jobs=-1,\n",
       "             param_grid=[{&#x27;estimator&#x27;: [RandomForestClassifier(criterion=&#x27;log_loss&#x27;,\n",
       "                                                               max_depth=150,\n",
       "                                                               min_samples_leaf=2,\n",
       "                                                               n_estimators=500)],\n",
       "                          &#x27;estimator__bootstrap&#x27;: [True, False],\n",
       "                          &#x27;estimator__criterion&#x27;: [&#x27;gini&#x27;, &#x27;entropy&#x27;,\n",
       "                                                   &#x27;log_loss&#x27;],\n",
       "                          &#x27;estimator__max_depth&#x27;: [50, 100, 150],\n",
       "                          &#x27;estimator__max_features&#x27;: [&#x27;log2&#x27;, &#x27;sqrt&#x27;],\n",
       "                          &#x27;estimator__min_samples_leaf&#x27;: [2, 10],\n",
       "                          &#x27;estimator__min_samples_split&#x27;: [2, 26, 50],\n",
       "                          &#x27;estimator__n_estimators&#x27;: [50, 275, 500]}],\n",
       "             return_train_score=True, scoring=make_scorer(accuracy_score),\n",
       "             verbose=1)</pre></div></div></div><div class=\"sk-parallel\"><div class=\"sk-parallel-item\"><div class=\"sk-item\"><div class=\"sk-label-container\"><div class=\"sk-label sk-toggleable\"><input class=\"sk-toggleable__control sk-hidden--visually\" id=\"sk-estimator-id-2\" type=\"checkbox\" ><label for=\"sk-estimator-id-2\" class=\"sk-toggleable__label sk-toggleable__label-arrow\">estimator: Pipeline</label><div class=\"sk-toggleable__content\"><pre>Pipeline(steps=[(&#x27;scaler&#x27;, None), (&#x27;estimator&#x27;, RandomForestClassifier())])</pre></div></div></div><div class=\"sk-serial\"><div class=\"sk-item\"><div class=\"sk-serial\"><div class=\"sk-item\"><div class=\"sk-estimator sk-toggleable\"><input class=\"sk-toggleable__control sk-hidden--visually\" id=\"sk-estimator-id-3\" type=\"checkbox\" ><label for=\"sk-estimator-id-3\" class=\"sk-toggleable__label sk-toggleable__label-arrow\">None</label><div class=\"sk-toggleable__content\"><pre>None</pre></div></div></div><div class=\"sk-item\"><div class=\"sk-estimator sk-toggleable\"><input class=\"sk-toggleable__control sk-hidden--visually\" id=\"sk-estimator-id-4\" type=\"checkbox\" ><label for=\"sk-estimator-id-4\" class=\"sk-toggleable__label sk-toggleable__label-arrow\">RandomForestClassifier</label><div class=\"sk-toggleable__content\"><pre>RandomForestClassifier()</pre></div></div></div></div></div></div></div></div></div></div></div></div>"
      ],
      "text/plain": [
       "GridSearchCV(cv=5,\n",
       "             estimator=Pipeline(steps=[('scaler', None),\n",
       "                                       ('estimator',\n",
       "                                        RandomForestClassifier())]),\n",
       "             n_jobs=-1,\n",
       "             param_grid=[{'estimator': [RandomForestClassifier(criterion='log_loss',\n",
       "                                                               max_depth=150,\n",
       "                                                               min_samples_leaf=2,\n",
       "                                                               n_estimators=500)],\n",
       "                          'estimator__bootstrap': [True, False],\n",
       "                          'estimator__criterion': ['gini', 'entropy',\n",
       "                                                   'log_loss'],\n",
       "                          'estimator__max_depth': [50, 100, 150],\n",
       "                          'estimator__max_features': ['log2', 'sqrt'],\n",
       "                          'estimator__min_samples_leaf': [2, 10],\n",
       "                          'estimator__min_samples_split': [2, 26, 50],\n",
       "                          'estimator__n_estimators': [50, 275, 500]}],\n",
       "             return_train_score=True, scoring=make_scorer(accuracy_score),\n",
       "             verbose=1)"
      ]
     },
     "execution_count": 39,
     "metadata": {},
     "output_type": "execute_result"
    }
   ],
   "source": [
    "random.seed(1)\n",
    "grid_search_RF.fit(Xtrain, ytrain)"
   ]
  },
  {
   "cell_type": "code",
   "execution_count": 40,
   "id": "07e54b56",
   "metadata": {},
   "outputs": [
    {
     "name": "stdout",
     "output_type": "stream",
     "text": [
      "1.0\n",
      "{'estimator': RandomForestClassifier(criterion='log_loss', max_depth=150, min_samples_leaf=2,\n",
      "                       n_estimators=500), 'estimator__bootstrap': True, 'estimator__criterion': 'log_loss', 'estimator__max_depth': 150, 'estimator__max_features': 'sqrt', 'estimator__min_samples_leaf': 2, 'estimator__min_samples_split': 2, 'estimator__n_estimators': 500}\n"
     ]
    }
   ],
   "source": [
    "print(grid_search_RF.score(Xtrain, ytrain))\n",
    "print(grid_search_RF.best_params_)"
   ]
  },
  {
   "cell_type": "code",
   "execution_count": 41,
   "id": "f9705cc9",
   "metadata": {},
   "outputs": [
    {
     "name": "stdout",
     "output_type": "stream",
     "text": [
      "Test set score: 0.828347\n"
     ]
    }
   ],
   "source": [
    "print(\"Test set score: %f\" % grid_search_RF.score(Xtest, ytest))"
   ]
  },
  {
   "cell_type": "markdown",
   "id": "41e5a790",
   "metadata": {},
   "source": [
    "Случайный лес показывает лучшие результаты среди всех моделей. Для прогноза для kaggle будем использовать случайный лес."
   ]
  },
  {
   "cell_type": "code",
   "execution_count": 42,
   "id": "bcab9734",
   "metadata": {},
   "outputs": [
    {
     "name": "stdout",
     "output_type": "stream",
     "text": [
      "Fitting 5 folds for each of 648 candidates, totalling 3240 fits\n"
     ]
    }
   ],
   "source": [
    "f = open('class_test.csv','w') \n",
    "f.write('Id,sex')\n",
    "f.write('\\n')\n",
    "grid_search_RF.fit(df.drop(['Sex', 'Id'], axis=1), df[['Sex']].astype(int))\n",
    "pred = grid_search_RF.predict(df_kag_NA.drop('Id', axis=1))\n",
    "for i in range(len(df_kag_NA['Id'])):\n",
    "    f.write(str(df_kag_NA['Id'][i]))\n",
    "    f.write(',')\n",
    "    f.write(str(int(pred[i])))\n",
    "    f.write('\\n')"
   ]
  }
 ],
 "metadata": {
  "kernelspec": {
   "display_name": "Python 3 (ipykernel)",
   "language": "python",
   "name": "python3"
  },
  "language_info": {
   "codemirror_mode": {
    "name": "ipython",
    "version": 3
   },
   "file_extension": ".py",
   "mimetype": "text/x-python",
   "name": "python",
   "nbconvert_exporter": "python",
   "pygments_lexer": "ipython3",
   "version": "3.10.7"
  }
 },
 "nbformat": 4,
 "nbformat_minor": 5
}
