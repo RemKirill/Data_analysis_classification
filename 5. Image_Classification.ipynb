{
 "cells": [
  {
   "cell_type": "markdown",
   "id": "d6160845",
   "metadata": {},
   "source": [
    "Импортируем библиотеки."
   ]
  },
  {
   "cell_type": "code",
   "execution_count": 1,
   "id": "2b33abff",
   "metadata": {},
   "outputs": [],
   "source": [
    "from PIL import Image\n",
    "import numpy as np\n",
    "import os\n",
    "import glob \n",
    "import tensorflow as tf\n",
    "from tensorflow import keras\n",
    "from keras.models import Sequential\n",
    "from keras.layers import Dense, Dropout, Flatten, BatchNormalization, Activation, MaxPool2D\n",
    "from keras.layers.convolutional import Conv2D\n",
    "from keras.constraints import maxnorm\n",
    "from keras.utils import to_categorical\n",
    "import random\n",
    "from tensorflow.keras.metrics import Metric\n",
    "from keras.preprocessing.image import ImageDataGenerator\n",
    "from sklearn.model_selection import ParameterGrid\n",
    "import matplotlib.pyplot as plt\n",
    "from sklearn.metrics import confusion_matrix\n",
    "from sklearn.model_selection import train_test_split\n",
    "import seaborn as sns"
   ]
  },
  {
   "cell_type": "markdown",
   "id": "d6046339",
   "metadata": {},
   "source": [
    "Задаем имена классов."
   ]
  },
  {
   "cell_type": "code",
   "execution_count": 2,
   "id": "dcc05d6d",
   "metadata": {},
   "outputs": [],
   "source": [
    "class_names = [40, 42, 43, 45, 46, 47, 50, 51, 52, 53]"
   ]
  },
  {
   "cell_type": "markdown",
   "id": "687fb13c",
   "metadata": {},
   "source": [
    "Считываем данные и делим на test и train выборки. При этом переводим картинки в 8-bit ч-б формат, уменьшаем размер вдвое и нормируем данные."
   ]
  },
  {
   "cell_type": "code",
   "execution_count": 3,
   "id": "5dcd4602",
   "metadata": {},
   "outputs": [],
   "source": [
    "train_images_X = []\n",
    "train_images_y = []\n",
    "test_images_X = []\n",
    "test_images_y = []\n",
    "l = 0\n",
    "for s in class_names: \n",
    "    names = glob.glob(f'sample{s}/*.png')\n",
    "    imges = [Image.open(name).convert('L') for name in names] \n",
    "    j = 0\n",
    "    for img in imges:\n",
    "        j = j + 1 \n",
    "        if j <= 69:\n",
    "            train_images_X.append(np.array(img.resize(tuple([int(i/2) for i in img.size])))/256)\n",
    "            train_images_y.append(l)\n",
    "        else:\n",
    "            test_images_X.append(np.array(img.resize(tuple([int(i/2) for i in img.size])))/256)\n",
    "            test_images_y.append(l)\n",
    "    l = l + 1\n",
    "X_train = np.array(train_images_X)\n",
    "y_train = to_categorical(np.array(train_images_y))\n",
    "X_test = np.array(test_images_X)\n",
    "y_test = to_categorical(np.array(test_images_y))\n",
    "X_train = X_train.reshape(-1,100,100,1)\n",
    "X_train, X_val, y_train, y_val = train_test_split(X_train, y_train, test_size = 1/3, random_state=2)"
   ]
  },
  {
   "cell_type": "markdown",
   "id": "31b5a73e",
   "metadata": {},
   "source": [
    "Задаем модель для нашей нейронное сети. {Сверточный слой (с различной размерностью выходных пространств 8, 16, 32) => max пулинг (2 на 2 квадрат) => дропаут (каждый раз по 25%)}(трижды) => полносвязная двуслойная. Последний слой содержит столько выходов, сколько у нас классов и функцию активации softmax."
   ]
  },
  {
   "cell_type": "code",
   "execution_count": 4,
   "id": "9a43c54c",
   "metadata": {},
   "outputs": [],
   "source": [
    "model = Sequential()\n",
    "model.add(Conv2D(filters = 8, kernel_size = (5,5),padding = 'Same', activation ='relu', input_shape = (100,100,1)))\n",
    "model.add(MaxPool2D(pool_size=(2,2)))\n",
    "model.add(Dropout(0.25))\n",
    "model.add(Conv2D(filters = 16, kernel_size = (3,3),padding = 'Same', activation ='relu'))\n",
    "model.add(MaxPool2D(pool_size=(2,2), strides=(2,2)))\n",
    "model.add(Dropout(0.25))\n",
    "model.add(Conv2D(filters = 32, kernel_size = (5,5),padding = 'Same', activation ='relu'))\n",
    "model.add(MaxPool2D(pool_size=(2,2), strides=(2,2)))\n",
    "model.add(Dropout(0.25))\n",
    "model.add(Flatten())\n",
    "model.add(Dense(256, activation = \"relu\"))\n",
    "model.add(Dropout(0.5))\n",
    "model.add(Dense(10, activation = \"softmax\"))\n",
    "model.compile(loss='categorical_crossentropy', optimizer='adam', metrics=['accuracy'])"
   ]
  },
  {
   "cell_type": "markdown",
   "id": "d283e5c8",
   "metadata": {},
   "source": [
    "С целью увеличения способности модели к обобщению будем использовать ImageDataGenerator на изображениях тестового набора (поворот, смещение, переворот)"
   ]
  },
  {
   "cell_type": "code",
   "execution_count": 5,
   "id": "f1649cea",
   "metadata": {},
   "outputs": [],
   "source": [
    "random.seed(1)"
   ]
  },
  {
   "cell_type": "markdown",
   "id": "d4a9dd97",
   "metadata": {},
   "source": [
    "Выберем модель с оптимальным числом эпох и размером batch. Для этого используем ParameterGrid."
   ]
  },
  {
   "cell_type": "code",
   "execution_count": 6,
   "id": "fdc09947",
   "metadata": {},
   "outputs": [],
   "source": [
    "parameters = {'epochs': [24, 36, 48],\n",
    "              'batch_size':[70, 84, 105, 140],\n",
    "}"
   ]
  },
  {
   "cell_type": "code",
   "execution_count": 7,
   "id": "a0676224",
   "metadata": {},
   "outputs": [],
   "source": [
    "model.save_weights('start')\n",
    "model.save_weights('best')\n",
    "acc = 0\n",
    "for i in list(ParameterGrid(parameters)):\n",
    "    model.load_weights('start')\n",
    "    random.seed(1)\n",
    "    m = model.fit(X_train, y_train, validation_data = (X_val, y_val), epochs=i['epochs'], batch_size=i['batch_size'], verbose=False)\n",
    "    if m.history['val_accuracy'][-1] > acc:\n",
    "        acc = m.history['val_accuracy'][-1]\n",
    "        os.remove('best.index')\n",
    "        model.save_weights('best')"
   ]
  },
  {
   "cell_type": "markdown",
   "id": "36eb8ed9",
   "metadata": {},
   "source": [
    "Загрузим модель, которая показала лучшие результаты и проверим точность на тестовом наборе."
   ]
  },
  {
   "cell_type": "code",
   "execution_count": 8,
   "id": "afcce5d8",
   "metadata": {},
   "outputs": [
    {
     "name": "stdout",
     "output_type": "stream",
     "text": [
      "8/8 [==============================] - 0s 22ms/step\n",
      "Точность на тестовом наборе:  0.93043476\n"
     ]
    }
   ],
   "source": [
    "model.load_weights('best')\n",
    "Y_pred = model.predict(X_test) \n",
    "Y_pred_classes = np.argmax(Y_pred,axis = 1) \n",
    "Y_true = np.argmax(y_test,axis = 1) \n",
    "\n",
    "m = tf.keras.metrics.Accuracy()\n",
    "m.update_state(Y_true, Y_pred_classes)\n",
    "print('Точность на тестовом наборе: ', m.result().numpy())"
   ]
  },
  {
   "cell_type": "markdown",
   "id": "00ee4126",
   "metadata": {},
   "source": [
    "Точность классификации составила 93%.\n",
    "Также выведем confusion_matrix и проверим на каких классах чаще допускались ошибки."
   ]
  },
  {
   "cell_type": "code",
   "execution_count": 9,
   "id": "b9852482",
   "metadata": {
    "scrolled": true
   },
   "outputs": [
    {
     "data": {
      "image/png": "[encoded data removed]",
      "text/plain": [
       "<Figure size 720x720 with 2 Axes>"
      ]
     },
     "metadata": {
      "needs_background": "light"
     },
     "output_type": "display_data"
    }
   ],
   "source": [
    "confusion_mtx = confusion_matrix(Y_true, Y_pred_classes) \n",
    "f,ax = plt.subplots(figsize=(10, 10))\n",
    "sns.heatmap(confusion_mtx, annot=True, linewidths=0.01,cmap=\"Blues\",linecolor=\"gray\", fmt= '.0f',ax=ax)\n",
    "plt.xlabel(\"Predicted Label\")\n",
    "plt.ylabel(\"True Label\")\n",
    "plt.title(\"Confusion Matrix\")\n",
    "plt.show()"
   ]
  },
  {
   "cell_type": "markdown",
   "id": "16af86c8",
   "metadata": {},
   "source": [
    "С целью увеличения способности модели к обобщению будем использовать ImageDataGenerator на изображениях тестового набора (поворот, смещение, переворот). Сравним с результатами без ImageDataGenerator."
   ]
  },
  {
   "cell_type": "code",
   "execution_count": 10,
   "id": "8494f64e",
   "metadata": {},
   "outputs": [],
   "source": [
    "random.seed(1)\n",
    "datagen = ImageDataGenerator(\n",
    "        featurewise_center=False,  # вычитание среднего\n",
    "        samplewise_center=False,  # вычитание среднего\n",
    "        featurewise_std_normalization=False,  # стандартизация\n",
    "        samplewise_std_normalization=False,  # стандартизация\n",
    "        zca_whitening=False,  # уменьшение размерности\n",
    "        rotation_range=15,  # случайный поворот до 15 градусов\n",
    "        zoom_range = 0.2, # случайное увеличение изображение до 20%\n",
    "        width_shift_range=0.2,  # случайное смещение по горизонтали до 20%\n",
    "        height_shift_range=0.2,  # случайное смещение по вертикали до 20%\n",
    "        horizontal_flip=True,  # переворот по горизонтали\n",
    "        vertical_flip=True)  # переворот по вертикали\n",
    "\n",
    "datagen.fit(X_train)"
   ]
  },
  {
   "cell_type": "code",
   "execution_count": 11,
   "id": "b2ea956a",
   "metadata": {},
   "outputs": [],
   "source": [
    "random.seed(1)\n",
    "parameters = {'epochs': [24, 36, 48],\n",
    "              'batch_size':[70, 84, 105, 140],\n",
    "}"
   ]
  },
  {
   "cell_type": "code",
   "execution_count": 12,
   "id": "76320751",
   "metadata": {},
   "outputs": [],
   "source": [
    "parameters = {'epochs': [24, 36, 48],\n",
    "              'batch_size':[70, 84, 105, 140],\n",
    "}"
   ]
  },
  {
   "cell_type": "code",
   "execution_count": 13,
   "id": "2f83744b",
   "metadata": {},
   "outputs": [],
   "source": [
    "model.save_weights('start')\n",
    "model.save_weights('best')\n",
    "acc = 0\n",
    "for i in list(ParameterGrid(parameters)):\n",
    "    model.load_weights('start')\n",
    "    random.seed(1)\n",
    "    m = model.fit(X_train, y_train, validation_data = (X_val, y_val), epochs=i['epochs'], batch_size=i['batch_size'], verbose=False)\n",
    "    if m.history['val_accuracy'][-1] > acc:\n",
    "        acc = m.history['val_accuracy'][-1]\n",
    "        os.remove('best.index')\n",
    "        model.save_weights('best')"
   ]
  },
  {
   "cell_type": "code",
   "execution_count": 14,
   "id": "83ede3d5",
   "metadata": {},
   "outputs": [
    {
     "name": "stdout",
     "output_type": "stream",
     "text": [
      "8/8 [==============================] - 0s 24ms/step\n",
      "Точность на тестовом наборе:  0.95652175\n"
     ]
    }
   ],
   "source": [
    "model.load_weights('best')\n",
    "Y_pred = model.predict(X_test) \n",
    "Y_pred_classes = np.argmax(Y_pred,axis = 1) \n",
    "Y_true = np.argmax(y_test,axis = 1) \n",
    "\n",
    "m = tf.keras.metrics.Accuracy()\n",
    "m.update_state(Y_true, Y_pred_classes)\n",
    "print('Точность на тестовом наборе: ', m.result().numpy())"
   ]
  },
  {
   "cell_type": "code",
   "execution_count": 15,
   "id": "a4213191",
   "metadata": {},
   "outputs": [
    {
     "data": {
      "image/png": "[encoded data removed]",
      "text/plain": [
       "<Figure size 720x720 with 2 Axes>"
      ]
     },
     "metadata": {
      "needs_background": "light"
     },
     "output_type": "display_data"
    }
   ],
   "source": [
    "confusion_mtx = confusion_matrix(Y_true, Y_pred_classes) \n",
    "f,ax = plt.subplots(figsize=(10, 10))\n",
    "sns.heatmap(confusion_mtx, annot=True, linewidths=0.01,cmap=\"Blues\",linecolor=\"gray\", fmt= '.0f',ax=ax)\n",
    "plt.xlabel(\"Predicted Label\")\n",
    "plt.ylabel(\"True Label\")\n",
    "plt.title(\"Confusion Matrix\")\n",
    "plt.show()"
   ]
  },
  {
   "cell_type": "markdown",
   "id": "758a6673",
   "metadata": {},
   "source": [
    "Точность классификации составила 95.7% (против 93% без ImageDataGenerator)."
   ]
  }
 ],
 "metadata": {
  "kernelspec": {
   "display_name": "Python 3 (ipykernel)",
   "language": "python",
   "name": "python3"
  },
  "language_info": {
   "codemirror_mode": {
    "name": "ipython",
    "version": 3
   },
   "file_extension": ".py",
   "mimetype": "text/x-python",
   "name": "python",
   "nbconvert_exporter": "python",
   "pygments_lexer": "ipython3",
   "version": "3.10.7"
  }
 },
 "nbformat": 4,
 "nbformat_minor": 5
}
